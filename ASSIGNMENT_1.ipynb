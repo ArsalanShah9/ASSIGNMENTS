{
  "nbformat": 4,
  "nbformat_minor": 0,
  "metadata": {
    "colab": {
      "provenance": [],
      "authorship_tag": "ABX9TyM1nDqmo79itlb68D/T75Z0"
    },
    "kernelspec": {
      "name": "python3",
      "display_name": "Python 3"
    },
    "language_info": {
      "name": "python"
    }
  },
  "cells": [
    {
      "cell_type": "code",
      "execution_count": 1,
      "metadata": {
        "colab": {
          "base_uri": "https://localhost:8080/"
        },
        "id": "U8Vi9Hvv72UF",
        "outputId": "33dc6420-85da-471b-93dd-8c138e8ef5a6"
      },
      "outputs": [
        {
          "output_type": "stream",
          "name": "stdout",
          "text": [
            "[5, 6, 7]\n"
          ]
        }
      ],
      "source": [
        "a=[[5,8,5],\n",
        " [6,9,12],\n",
        "   [7,88,66]]\n",
        "a1=[]\n",
        "def check(a):\n",
        "  for i in range(0,3):\n",
        "    a1.append(a[i][0])\n",
        "  return a1\n",
        "print(check(a))\n"
      ]
    }
  ]
}